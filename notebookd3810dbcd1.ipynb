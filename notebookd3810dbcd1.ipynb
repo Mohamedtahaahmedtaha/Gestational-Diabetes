{
 "cells": [
  {
   "cell_type": "code",
   "execution_count": 1,
   "id": "3872bff5",
   "metadata": {
    "_cell_guid": "b1076dfc-b9ad-4769-8c92-a6c4dae69d19",
    "_uuid": "8f2839f25d086af736a60e9eeb907d3b93b6e0e5",
    "execution": {
     "iopub.execute_input": "2025-04-06T10:54:32.511768Z",
     "iopub.status.busy": "2025-04-06T10:54:32.511285Z",
     "iopub.status.idle": "2025-04-06T10:54:33.470561Z",
     "shell.execute_reply": "2025-04-06T10:54:33.469280Z"
    },
    "papermill": {
     "duration": 0.965596,
     "end_time": "2025-04-06T10:54:33.472427",
     "exception": false,
     "start_time": "2025-04-06T10:54:32.506831",
     "status": "completed"
    },
    "tags": []
   },
   "outputs": [
    {
     "name": "stdout",
     "output_type": "stream",
     "text": [
      "/kaggle/input/gestational-diabetes/Gestational Diabetes.csv\n"
     ]
    }
   ],
   "source": [
    "# This Python 3 environment comes with many helpful analytics libraries installed\n",
    "# It is defined by the kaggle/python Docker image: https://github.com/kaggle/docker-python\n",
    "# For example, here's several helpful packages to load\n",
    "\n",
    "import numpy as np # linear algebra\n",
    "import pandas as pd # data processing, CSV file I/O (e.g. pd.read_csv)\n",
    "\n",
    "# Input data files are available in the read-only \"../input/\" directory\n",
    "# For example, running this (by clicking run or pressing Shift+Enter) will list all files under the input directory\n",
    "\n",
    "import os\n",
    "for dirname, _, filenames in os.walk('/kaggle/input'):\n",
    "    for filename in filenames:\n",
    "        print(os.path.join(dirname, filename))\n",
    "\n",
    "# You can write up to 20GB to the current directory (/kaggle/working/) that gets preserved as output when you create a version using \"Save & Run All\" \n",
    "# You can also write temporary files to /kaggle/temp/, but they won't be saved outside of the current session"
   ]
  },
  {
   "cell_type": "code",
   "execution_count": 2,
   "id": "456d09b0",
   "metadata": {
    "execution": {
     "iopub.execute_input": "2025-04-06T10:54:33.479605Z",
     "iopub.status.busy": "2025-04-06T10:54:33.479099Z",
     "iopub.status.idle": "2025-04-06T10:54:33.496896Z",
     "shell.execute_reply": "2025-04-06T10:54:33.495458Z"
    },
    "papermill": {
     "duration": 0.023106,
     "end_time": "2025-04-06T10:54:33.498890",
     "exception": false,
     "start_time": "2025-04-06T10:54:33.475784",
     "status": "completed"
    },
    "tags": []
   },
   "outputs": [],
   "source": [
    "data=pd.read_csv('/kaggle/input/gestational-diabetes/Gestational Diabetes.csv')"
   ]
  },
  {
   "cell_type": "code",
   "execution_count": 3,
   "id": "675879f8",
   "metadata": {
    "execution": {
     "iopub.execute_input": "2025-04-06T10:54:33.505296Z",
     "iopub.status.busy": "2025-04-06T10:54:33.504877Z",
     "iopub.status.idle": "2025-04-06T10:54:33.533516Z",
     "shell.execute_reply": "2025-04-06T10:54:33.532429Z"
    },
    "papermill": {
     "duration": 0.033702,
     "end_time": "2025-04-06T10:54:33.535295",
     "exception": false,
     "start_time": "2025-04-06T10:54:33.501593",
     "status": "completed"
    },
    "tags": []
   },
   "outputs": [
    {
     "data": {
      "text/html": [
       "<div>\n",
       "<style scoped>\n",
       "    .dataframe tbody tr th:only-of-type {\n",
       "        vertical-align: middle;\n",
       "    }\n",
       "\n",
       "    .dataframe tbody tr th {\n",
       "        vertical-align: top;\n",
       "    }\n",
       "\n",
       "    .dataframe thead th {\n",
       "        text-align: right;\n",
       "    }\n",
       "</style>\n",
       "<table border=\"1\" class=\"dataframe\">\n",
       "  <thead>\n",
       "    <tr style=\"text-align: right;\">\n",
       "      <th></th>\n",
       "      <th>Age</th>\n",
       "      <th>Pregnancy No</th>\n",
       "      <th>Weight</th>\n",
       "      <th>Height</th>\n",
       "      <th>BMI</th>\n",
       "      <th>Heredity</th>\n",
       "      <th>Prediction</th>\n",
       "    </tr>\n",
       "  </thead>\n",
       "  <tbody>\n",
       "    <tr>\n",
       "      <th>0</th>\n",
       "      <td>17.0</td>\n",
       "      <td>1.0</td>\n",
       "      <td>48.0</td>\n",
       "      <td>165.0</td>\n",
       "      <td>17.6</td>\n",
       "      <td>0</td>\n",
       "      <td>0</td>\n",
       "    </tr>\n",
       "    <tr>\n",
       "      <th>1</th>\n",
       "      <td>17.0</td>\n",
       "      <td>1.0</td>\n",
       "      <td>49.0</td>\n",
       "      <td>145.0</td>\n",
       "      <td>23.3</td>\n",
       "      <td>0</td>\n",
       "      <td>0</td>\n",
       "    </tr>\n",
       "    <tr>\n",
       "      <th>2</th>\n",
       "      <td>17.0</td>\n",
       "      <td>1.0</td>\n",
       "      <td>50.0</td>\n",
       "      <td>140.0</td>\n",
       "      <td>25.5</td>\n",
       "      <td>0</td>\n",
       "      <td>0</td>\n",
       "    </tr>\n",
       "    <tr>\n",
       "      <th>3</th>\n",
       "      <td>17.0</td>\n",
       "      <td>1.0</td>\n",
       "      <td>50.0</td>\n",
       "      <td>145.0</td>\n",
       "      <td>23.8</td>\n",
       "      <td>0</td>\n",
       "      <td>0</td>\n",
       "    </tr>\n",
       "    <tr>\n",
       "      <th>4</th>\n",
       "      <td>17.0</td>\n",
       "      <td>1.0</td>\n",
       "      <td>49.0</td>\n",
       "      <td>146.0</td>\n",
       "      <td>23.0</td>\n",
       "      <td>0</td>\n",
       "      <td>0</td>\n",
       "    </tr>\n",
       "  </tbody>\n",
       "</table>\n",
       "</div>"
      ],
      "text/plain": [
       "    Age  Pregnancy No  Weight  Height   BMI  Heredity  Prediction\n",
       "0  17.0           1.0    48.0   165.0  17.6         0           0\n",
       "1  17.0           1.0    49.0   145.0  23.3         0           0\n",
       "2  17.0           1.0    50.0   140.0  25.5         0           0\n",
       "3  17.0           1.0    50.0   145.0  23.8         0           0\n",
       "4  17.0           1.0    49.0   146.0  23.0         0           0"
      ]
     },
     "execution_count": 3,
     "metadata": {},
     "output_type": "execute_result"
    }
   ],
   "source": [
    "data.head()"
   ]
  },
  {
   "cell_type": "code",
   "execution_count": 4,
   "id": "97d6fd7b",
   "metadata": {
    "execution": {
     "iopub.execute_input": "2025-04-06T10:54:33.541829Z",
     "iopub.status.busy": "2025-04-06T10:54:33.541512Z",
     "iopub.status.idle": "2025-04-06T10:54:33.547238Z",
     "shell.execute_reply": "2025-04-06T10:54:33.546231Z"
    },
    "papermill": {
     "duration": 0.010632,
     "end_time": "2025-04-06T10:54:33.548724",
     "exception": false,
     "start_time": "2025-04-06T10:54:33.538092",
     "status": "completed"
    },
    "tags": []
   },
   "outputs": [
    {
     "data": {
      "text/plain": [
       "(1012, 7)"
      ]
     },
     "execution_count": 4,
     "metadata": {},
     "output_type": "execute_result"
    }
   ],
   "source": [
    "data.shape"
   ]
  },
  {
   "cell_type": "code",
   "execution_count": 5,
   "id": "37375ccb",
   "metadata": {
    "execution": {
     "iopub.execute_input": "2025-04-06T10:54:33.555474Z",
     "iopub.status.busy": "2025-04-06T10:54:33.555068Z",
     "iopub.status.idle": "2025-04-06T10:54:33.586653Z",
     "shell.execute_reply": "2025-04-06T10:54:33.585571Z"
    },
    "papermill": {
     "duration": 0.036992,
     "end_time": "2025-04-06T10:54:33.588626",
     "exception": false,
     "start_time": "2025-04-06T10:54:33.551634",
     "status": "completed"
    },
    "tags": []
   },
   "outputs": [
    {
     "data": {
      "text/html": [
       "<div>\n",
       "<style scoped>\n",
       "    .dataframe tbody tr th:only-of-type {\n",
       "        vertical-align: middle;\n",
       "    }\n",
       "\n",
       "    .dataframe tbody tr th {\n",
       "        vertical-align: top;\n",
       "    }\n",
       "\n",
       "    .dataframe thead th {\n",
       "        text-align: right;\n",
       "    }\n",
       "</style>\n",
       "<table border=\"1\" class=\"dataframe\">\n",
       "  <thead>\n",
       "    <tr style=\"text-align: right;\">\n",
       "      <th></th>\n",
       "      <th>Age</th>\n",
       "      <th>Pregnancy No</th>\n",
       "      <th>Weight</th>\n",
       "      <th>Height</th>\n",
       "      <th>BMI</th>\n",
       "      <th>Heredity</th>\n",
       "      <th>Prediction</th>\n",
       "    </tr>\n",
       "  </thead>\n",
       "  <tbody>\n",
       "    <tr>\n",
       "      <th>count</th>\n",
       "      <td>1012.000000</td>\n",
       "      <td>1012.000000</td>\n",
       "      <td>1012.000000</td>\n",
       "      <td>1012.000000</td>\n",
       "      <td>1012.000000</td>\n",
       "      <td>1012.000000</td>\n",
       "      <td>1012.000000</td>\n",
       "    </tr>\n",
       "    <tr>\n",
       "      <th>mean</th>\n",
       "      <td>30.357708</td>\n",
       "      <td>2.517787</td>\n",
       "      <td>72.988142</td>\n",
       "      <td>158.154150</td>\n",
       "      <td>29.256818</td>\n",
       "      <td>0.226285</td>\n",
       "      <td>0.214427</td>\n",
       "    </tr>\n",
       "    <tr>\n",
       "      <th>std</th>\n",
       "      <td>7.022960</td>\n",
       "      <td>1.530656</td>\n",
       "      <td>12.552712</td>\n",
       "      <td>7.367421</td>\n",
       "      <td>5.092321</td>\n",
       "      <td>0.418632</td>\n",
       "      <td>0.410627</td>\n",
       "    </tr>\n",
       "    <tr>\n",
       "      <th>min</th>\n",
       "      <td>16.000000</td>\n",
       "      <td>1.000000</td>\n",
       "      <td>43.000000</td>\n",
       "      <td>135.000000</td>\n",
       "      <td>16.000000</td>\n",
       "      <td>0.000000</td>\n",
       "      <td>0.000000</td>\n",
       "    </tr>\n",
       "    <tr>\n",
       "      <th>25%</th>\n",
       "      <td>24.000000</td>\n",
       "      <td>1.000000</td>\n",
       "      <td>64.750000</td>\n",
       "      <td>153.000000</td>\n",
       "      <td>25.700000</td>\n",
       "      <td>0.000000</td>\n",
       "      <td>0.000000</td>\n",
       "    </tr>\n",
       "    <tr>\n",
       "      <th>50%</th>\n",
       "      <td>30.000000</td>\n",
       "      <td>2.000000</td>\n",
       "      <td>70.000000</td>\n",
       "      <td>158.000000</td>\n",
       "      <td>28.900000</td>\n",
       "      <td>0.000000</td>\n",
       "      <td>0.000000</td>\n",
       "    </tr>\n",
       "    <tr>\n",
       "      <th>75%</th>\n",
       "      <td>36.000000</td>\n",
       "      <td>3.000000</td>\n",
       "      <td>80.000000</td>\n",
       "      <td>164.000000</td>\n",
       "      <td>32.000000</td>\n",
       "      <td>0.000000</td>\n",
       "      <td>0.000000</td>\n",
       "    </tr>\n",
       "    <tr>\n",
       "      <th>max</th>\n",
       "      <td>45.000000</td>\n",
       "      <td>9.000000</td>\n",
       "      <td>126.000000</td>\n",
       "      <td>196.000000</td>\n",
       "      <td>54.300000</td>\n",
       "      <td>1.000000</td>\n",
       "      <td>1.000000</td>\n",
       "    </tr>\n",
       "  </tbody>\n",
       "</table>\n",
       "</div>"
      ],
      "text/plain": [
       "               Age  Pregnancy No       Weight       Height          BMI  \\\n",
       "count  1012.000000   1012.000000  1012.000000  1012.000000  1012.000000   \n",
       "mean     30.357708      2.517787    72.988142   158.154150    29.256818   \n",
       "std       7.022960      1.530656    12.552712     7.367421     5.092321   \n",
       "min      16.000000      1.000000    43.000000   135.000000    16.000000   \n",
       "25%      24.000000      1.000000    64.750000   153.000000    25.700000   \n",
       "50%      30.000000      2.000000    70.000000   158.000000    28.900000   \n",
       "75%      36.000000      3.000000    80.000000   164.000000    32.000000   \n",
       "max      45.000000      9.000000   126.000000   196.000000    54.300000   \n",
       "\n",
       "          Heredity   Prediction  \n",
       "count  1012.000000  1012.000000  \n",
       "mean      0.226285     0.214427  \n",
       "std       0.418632     0.410627  \n",
       "min       0.000000     0.000000  \n",
       "25%       0.000000     0.000000  \n",
       "50%       0.000000     0.000000  \n",
       "75%       0.000000     0.000000  \n",
       "max       1.000000     1.000000  "
      ]
     },
     "execution_count": 5,
     "metadata": {},
     "output_type": "execute_result"
    }
   ],
   "source": [
    "data.describe()"
   ]
  },
  {
   "cell_type": "code",
   "execution_count": 6,
   "id": "b343e3e6",
   "metadata": {
    "execution": {
     "iopub.execute_input": "2025-04-06T10:54:33.595699Z",
     "iopub.status.busy": "2025-04-06T10:54:33.595376Z",
     "iopub.status.idle": "2025-04-06T10:54:33.618235Z",
     "shell.execute_reply": "2025-04-06T10:54:33.617004Z"
    },
    "papermill": {
     "duration": 0.028208,
     "end_time": "2025-04-06T10:54:33.619928",
     "exception": false,
     "start_time": "2025-04-06T10:54:33.591720",
     "status": "completed"
    },
    "tags": []
   },
   "outputs": [
    {
     "name": "stdout",
     "output_type": "stream",
     "text": [
      "<class 'pandas.core.frame.DataFrame'>\n",
      "RangeIndex: 1012 entries, 0 to 1011\n",
      "Data columns (total 7 columns):\n",
      " #   Column        Non-Null Count  Dtype  \n",
      "---  ------        --------------  -----  \n",
      " 0   Age           1012 non-null   float64\n",
      " 1   Pregnancy No  1012 non-null   float64\n",
      " 2   Weight        1012 non-null   float64\n",
      " 3   Height        1012 non-null   float64\n",
      " 4   BMI           1012 non-null   float64\n",
      " 5   Heredity      1012 non-null   int64  \n",
      " 6   Prediction    1012 non-null   int64  \n",
      "dtypes: float64(5), int64(2)\n",
      "memory usage: 55.5 KB\n"
     ]
    }
   ],
   "source": [
    "data.info()"
   ]
  },
  {
   "cell_type": "code",
   "execution_count": null,
   "id": "010169f8",
   "metadata": {
    "papermill": {
     "duration": 0.002653,
     "end_time": "2025-04-06T10:54:33.625740",
     "exception": false,
     "start_time": "2025-04-06T10:54:33.623087",
     "status": "completed"
    },
    "tags": []
   },
   "outputs": [],
   "source": []
  }
 ],
 "metadata": {
  "kaggle": {
   "accelerator": "none",
   "dataSources": [
    {
     "datasetId": 4932053,
     "sourceId": 8301853,
     "sourceType": "datasetVersion"
    }
   ],
   "dockerImageVersionId": 30918,
   "isGpuEnabled": false,
   "isInternetEnabled": true,
   "language": "python",
   "sourceType": "notebook"
  },
  "kernelspec": {
   "display_name": "Python 3",
   "language": "python",
   "name": "python3"
  },
  "language_info": {
   "codemirror_mode": {
    "name": "ipython",
    "version": 3
   },
   "file_extension": ".py",
   "mimetype": "text/x-python",
   "name": "python",
   "nbconvert_exporter": "python",
   "pygments_lexer": "ipython3",
   "version": "3.10.12"
  },
  "papermill": {
   "default_parameters": {},
   "duration": 4.638773,
   "end_time": "2025-04-06T10:54:34.249816",
   "environment_variables": {},
   "exception": null,
   "input_path": "__notebook__.ipynb",
   "output_path": "__notebook__.ipynb",
   "parameters": {},
   "start_time": "2025-04-06T10:54:29.611043",
   "version": "2.6.0"
  }
 },
 "nbformat": 4,
 "nbformat_minor": 5
}
